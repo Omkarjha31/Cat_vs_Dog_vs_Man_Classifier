{
 "cells": [
  {
   "cell_type": "code",
   "execution_count": null,
   "id": "3a30a037",
   "metadata": {},
   "outputs": [],
   "source": [
    "import numpy as np\n",
    "import pandas as pd\n",
    "import tensorflow as tf\n",
    "import os\n",
    "import matplotlib.pyplot as plt\n",
    "import cv2\n",
    "import imghdr\n",
    "from tensorflow.keras.models import Sequential\n",
    "from tensorflow.keras.layers import Conv2D, MaxPooling2D, Dense, Flatten, Dropout\n",
    "from tensorflow.keras.metrics import Precision, Recall, CategoricalAccuracy\n",
    "from sklearn.metrics import classification_report, confusion_matrix\n",
    "import seaborn as sns"
   ]
  },
  {
   "cell_type": "code",
   "execution_count": null,
   "id": "076fb83d",
   "metadata": {},
   "outputs": [],
   "source": [
    "data_path = 'D:\\Study\\Deep Learning Lab\\data'  # Update this path\n",
    "data = tf.keras.utils.image_dataset_from_directory(\n",
    "    data_path,\n",
    "    labels='inferred',  # This will create labels based on folder names\n",
    "    label_mode='categorical',  # Changed from 'int' to 'categorical' for multi-class\n",
    "    batch_size=32,\n",
    "    image_size=(256, 256)\n",
    ")"
   ]
  },
  {
   "cell_type": "code",
   "execution_count": null,
   "id": "b3b92988",
   "metadata": {},
   "outputs": [],
   "source": [
    "# Check class names\n",
    "class_names = data.class_names\n",
    "print(\"Class names:\", class_names)\n",
    "num_classes = len(class_names)\n",
    "print(f\"Number of classes: {num_classes}\")"
   ]
  },
  {
   "cell_type": "code",
   "execution_count": null,
   "id": "61b2470e",
   "metadata": {},
   "outputs": [],
   "source": [
    "# Visualize some samples\n",
    "data_iterator = data.as_numpy_iterator()\n",
    "batch = data_iterator.next()\n",
    "\n",
    "fig, ax = plt.subplots(ncols=4, figsize=(20, 5))\n",
    "for idx, img in enumerate(batch[0][:4]):\n",
    "    ax[idx].imshow(img.astype(int))\n",
    "    # Get the class name from the one-hot encoded label\n",
    "    class_idx = np.argmax(batch[1][idx])\n",
    "    ax[idx].title.set_text(class_names[class_idx])"
   ]
  },
  {
   "cell_type": "code",
   "execution_count": null,
   "id": "e3b0d0ba",
   "metadata": {},
   "outputs": [],
   "source": [
    "# Normalize pixel values\n",
    "data = data.map(lambda x, y: (x/255, y))\n",
    "\n",
    "# Split data\n",
    "train_size = int(len(data) * 0.7)\n",
    "val_size = int(len(data) * 0.2)\n",
    "test_size = int(len(data) * 0.1)\n",
    "\n",
    "train = data.take(train_size)\n",
    "val = data.skip(train_size).take(val_size)\n",
    "test = data.skip(train_size + val_size).take(test_size)\n",
    "\n",
    "print(f\"Train size: {train_size}\")\n",
    "print(f\"Validation size: {val_size}\")\n",
    "print(f\"Test size: {test_size}\")"
   ]
  },
  {
   "cell_type": "code",
   "execution_count": null,
   "id": "c5f96b70",
   "metadata": {},
   "outputs": [],
   "source": [
    "#Build the model - Modified for multi-class classification\n",
    "model = Sequential([\n",
    "    Conv2D(32, (3, 3), 1, activation='relu', padding='same', input_shape=(256, 256, 3)),\n",
    "    MaxPooling2D(pool_size=(2, 2), strides=(2, 2)),\n",
    "    \n",
    "    Conv2D(64, (3, 3), 1, activation='relu', padding='same'),\n",
    "    MaxPooling2D(pool_size=(2, 2), strides=(2, 2)),\n",
    "    \n",
    "    Conv2D(128, (3, 3), 1, activation='relu', padding='same'),\n",
    "    MaxPooling2D(pool_size=(2, 2), strides=(2, 2)),\n",
    "    \n",
    "    Conv2D(128, (3, 3), 1, activation='relu', padding='same'),\n",
    "    MaxPooling2D(pool_size=(2, 2), strides=(2, 2)),\n",
    "    \n",
    "    Flatten(),\n",
    "    Dropout(0.5),  # Added dropout for regularization\n",
    "    Dense(512, activation='relu'),\n",
    "    Dropout(0.5),\n",
    "    Dense(256, activation='relu'),\n",
    "    Dense(num_classes, activation='softmax')  # Changed to softmax for multi-class\n",
    "])"
   ]
  },
  {
   "cell_type": "code",
   "execution_count": null,
   "id": "133bdd0f",
   "metadata": {},
   "outputs": [],
   "source": [
    "# Compile model - Updated for multi-class classification\n",
    "model.compile(\n",
    "    optimizer='adam',\n",
    "    loss='categorical_crossentropy',  # Changed from BinaryCrossentropy\n",
    "    metrics=['accuracy']\n",
    ")\n",
    "\n",
    "model.summary()"
   ]
  },
  {
   "cell_type": "code",
   "execution_count": null,
   "id": "b516a5bc",
   "metadata": {},
   "outputs": [],
   "source": [
    "# Set up callbacks\n",
    "logdir = 'logs'\n",
    "tensorboard_callback = tf.keras.callbacks.TensorBoard(log_dir=logdir)\n",
    "\n",
    "# Early stopping to prevent overfitting\n",
    "early_stopping = tf.keras.callbacks.EarlyStopping(\n",
    "    monitor='val_loss',\n",
    "    patience=10,\n",
    "    restore_best_weights=True\n",
    ")"
   ]
  },
  {
   "cell_type": "code",
   "execution_count": null,
   "id": "4ba58634",
   "metadata": {},
   "outputs": [],
   "source": [
    "# Train the model\n",
    "hist = model.fit(\n",
    "    train,\n",
    "    epochs=30,\n",
    "    validation_data=val,\n",
    "    callbacks=[tensorboard_callback, early_stopping]\n",
    ")\n",
    "\n",
    "print(\"Training completed!\")\n",
    "print(f\"Best validation accuracy: {max(hist.history['val_accuracy']):.4f}\")"
   ]
  },
  {
   "cell_type": "code",
   "execution_count": null,
   "id": "e40414e7",
   "metadata": {},
   "outputs": [],
   "source": [
    "# Loss plot\n",
    "ax1.plot(hist.history['loss'], color='teal', label='Training Loss')\n",
    "ax1.plot(hist.history['val_loss'], color='orange', label='Validation Loss')\n",
    "ax1.set_title('Model Loss')\n",
    "ax1.set_ylabel('Loss')\n",
    "ax1.set_xlabel('Epoch')\n",
    "ax1.legend()"
   ]
  },
  {
   "cell_type": "code",
   "execution_count": null,
   "id": "07d59ca2",
   "metadata": {},
   "outputs": [],
   "source": [
    "# Accuracy plot\n",
    "ax2.plot(hist.history['accuracy'], color='teal', label='Training Accuracy')\n",
    "ax2.plot(hist.history['val_accuracy'], color='orange', label='Validation Accuracy')\n",
    "ax2.set_title('Model Accuracy')\n",
    "ax2.set_ylabel('Accuracy')\n",
    "ax2.set_xlabel('Epoch')\n",
    "ax2.legend()\n",
    "\n",
    "plt.tight_layout()\n",
    "plt.show()"
   ]
  },
  {
   "cell_type": "code",
   "execution_count": null,
   "id": "50e9c37b",
   "metadata": {},
   "outputs": [],
   "source": [
    "# Evaluate on test set\n",
    "test_loss, test_accuracy = model.evaluate(test, verbose=0)\n",
    "print(f\"Test Accuracy: {test_accuracy:.4f}\")"
   ]
  },
  {
   "cell_type": "code",
   "execution_count": null,
   "id": "619bb70e",
   "metadata": {},
   "outputs": [],
   "source": [
    "# Detailed evaluation\n",
    "y_true = []\n",
    "y_pred = []\n",
    "\n",
    "for batch in test.as_numpy_iterator():\n",
    "    X, y = batch\n",
    "    predictions = model.predict(X, verbose=0)\n",
    "    \n",
    "    # Convert one-hot to class indices\n",
    "    y_true.extend(np.argmax(y, axis=1))\n",
    "    y_pred.extend(np.argmax(predictions, axis=1))"
   ]
  },
  {
   "cell_type": "code",
   "execution_count": null,
   "id": "8d2fa591",
   "metadata": {},
   "outputs": [],
   "source": [
    "# Classification report\n",
    "print(\"\\nClassification Report:\")\n",
    "print(classification_report(y_true, y_pred, target_names=class_names))"
   ]
  },
  {
   "cell_type": "code",
   "execution_count": null,
   "id": "80e3e35d",
   "metadata": {},
   "outputs": [],
   "source": [
    "# Confusion matrix\n",
    "cm = confusion_matrix(y_true, y_pred)\n",
    "plt.figure(figsize=(8, 6))\n",
    "sns.heatmap(cm, annot=True, fmt='d', cmap='Blues', \n",
    "            xticklabels=class_names, yticklabels=class_names)\n",
    "plt.title('Confusion Matrix')\n",
    "plt.ylabel('True Label')\n",
    "plt.xlabel('Predicted Label')\n",
    "plt.show()"
   ]
  },
  {
   "cell_type": "code",
   "execution_count": null,
   "id": "cb591543",
   "metadata": {},
   "outputs": [],
   "source": [
    "# Function to predict single image\n",
    "def predict_image(image_path, model, class_names):\n",
    "    \"\"\"\n",
    "    Predict the class of a single image\n",
    "    \"\"\"\n",
    "    img = cv2.imread(image_path)\n",
    "    img = cv2.cvtColor(img, cv2.COLOR_BGR2RGB)  # Convert BGR to RGB\n",
    "    \n",
    "    # Display original image\n",
    "    plt.figure(figsize=(8, 4))\n",
    "    plt.subplot(1, 2, 1)\n",
    "    plt.imshow(img)\n",
    "    plt.title('Original Image')\n",
    "    plt.axis('off')\n",
    "    \n",
    "    # Resize and normalize\n",
    "    img_resized = tf.image.resize(img, (256, 256))\n",
    "    plt.subplot(1, 2, 2)\n",
    "    plt.imshow(img_resized.numpy().astype(int))\n",
    "    plt.title('Resized Image')\n",
    "    plt.axis('off')\n",
    "    plt.show()\n",
    "    \n",
    "    # Make prediction\n",
    "    img_array = np.expand_dims(img_resized/255, 0)\n",
    "    predictions = model.predict(img_array, verbose=0)\n",
    "    \n",
    "    # Get prediction results\n",
    "    predicted_class_idx = np.argmax(predictions[0])\n",
    "    confidence = predictions[0][predicted_class_idx]\n",
    "    predicted_class = class_names[predicted_class_idx]\n",
    "    \n",
    "    print(f\"Predicted class: {predicted_class}\")\n",
    "    print(f\"Confidence: {confidence:.4f}\")\n",
    "    \n",
    "    # Show all class probabilities\n",
    "    print(\"\\nAll class probabilities:\")\n",
    "    for i, class_name in enumerate(class_names):\n",
    "        print(f\"{class_name}: {predictions[0][i]:.4f}\")\n",
    "    \n",
    "    return predicted_class, confidence"
   ]
  },
  {
   "cell_type": "code",
   "execution_count": null,
   "id": "69029ddf",
   "metadata": {},
   "outputs": [],
   "source": [
    "# Save the model\n",
    "model.save('dog_cat_human_classifier.h5')\n",
    "print(\"Model saved as 'dog_cat_human_classifier.h5'\")\n",
    "\n",
    "# Function to load and use the saved model\n",
    "def load_and_predict(model_path, image_path, class_names):\n",
    "    \"\"\"\n",
    "    Load a saved model and make predictions\n",
    "    \"\"\"\n",
    "    loaded_model = tf.keras.models.load_model(model_path)\n",
    "    return predict_image(image_path, loaded_model, class_names)"
   ]
  },
  {
   "cell_type": "code",
   "execution_count": null,
   "id": "0a3d7350",
   "metadata": {},
   "outputs": [],
   "source": [
    "# Test a single image provided by user\n",
    "def test_user_image():\n",
    "    \"\"\"\n",
    "    Ask user for image path and test it\n",
    "    \"\"\"\n",
    "    print(\"\\n🖼️  IMAGE TESTING\")\n",
    "    print(\"=\" * 30)\n",
    "    \n",
    "    # Define class names (update these to match your dataset folder names)\n",
    "    class_names = ['cats', 'dogs', 'humans']  # Change these if your folders have different names\n",
    "    \n",
    "    # Load the saved model\n",
    "    try:\n",
    "        print(\"🔄 Loading saved model...\")\n",
    "        loaded_model = tf.keras.models.load_model('dog_cat_human_classifier.h5')\n",
    "        print(\"✅ Model loaded successfully!\")\n",
    "    except Exception as e:\n",
    "        print(f\"❌ Error loading model: {e}\")\n",
    "        print(\"Make sure 'dog_cat_human_classifier.h5' exists in your current directory.\")\n",
    "        return\n",
    "    \n",
    "    # Get image path from user\n",
    "    image_path = input(\"Enter the path to your image: \").strip().replace('\"', '')\n",
    "    \n",
    "    # Check if file exists\n",
    "    if not os.path.exists(image_path):\n",
    "        print(\"❌ Image file not found! Please check the path.\")\n",
    "        return\n",
    "    \n",
    "    print(f\"🔍 Testing image: {os.path.basename(image_path)}\")\n",
    "    \n",
    "    # Use your existing predict_image function with loaded model\n",
    "    try:\n",
    "        predicted_class, confidence = predict_image(image_path, loaded_model, class_names)\n",
    "        \n",
    "        # Additional summary\n",
    "        print(f\"\\n✅ RESULT: {predicted_class.upper()} (Confidence: {confidence:.1%})\")\n",
    "        \n",
    "    except Exception as e:\n",
    "        print(f\"❌ Error testing image: {e}\")"
   ]
  },
  {
   "cell_type": "code",
   "execution_count": null,
   "id": "43e57db8",
   "metadata": {},
   "outputs": [],
   "source": [
    "# Run the test\n",
    "test_user_image()"
   ]
  }
 ],
 "metadata": {
  "kernelspec": {
   "display_name": "Python 3",
   "language": "python",
   "name": "python3"
  },
  "language_info": {
   "codemirror_mode": {
    "name": "ipython",
    "version": 3
   },
   "file_extension": ".py",
   "mimetype": "text/x-python",
   "name": "python",
   "nbconvert_exporter": "python",
   "pygments_lexer": "ipython3",
   "version": "3.11.9"
  }
 },
 "nbformat": 4,
 "nbformat_minor": 5
}
